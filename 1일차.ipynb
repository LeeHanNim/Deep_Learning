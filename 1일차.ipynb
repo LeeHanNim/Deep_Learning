{
 "cells": [
  {
   "cell_type": "code",
   "execution_count": 1,
   "metadata": {},
   "outputs": [],
   "source": [
    "import numpy as np\n",
    "import tensorflow as tf"
   ]
  },
  {
   "cell_type": "code",
   "execution_count": 4,
   "metadata": {},
   "outputs": [],
   "source": [
    "a=np.array([\n",
    "    [2.1,3.1,3.9],\n",
    "    [3.2,4.5,3.1]\n",
    "])"
   ]
  },
  {
   "cell_type": "code",
   "execution_count": 6,
   "metadata": {},
   "outputs": [
    {
     "data": {
      "text/plain": [
       "array([[2.1, 3.1, 3.9],\n",
       "       [3.2, 4.5, 3.1]])"
      ]
     },
     "execution_count": 6,
     "metadata": {},
     "output_type": "execute_result"
    }
   ],
   "source": [
    "a"
   ]
  },
  {
   "cell_type": "code",
   "execution_count": 7,
   "metadata": {},
   "outputs": [
    {
     "data": {
      "text/plain": [
       "(2, 3)"
      ]
     },
     "execution_count": 7,
     "metadata": {},
     "output_type": "execute_result"
    }
   ],
   "source": [
    "a.shape"
   ]
  },
  {
   "cell_type": "code",
   "execution_count": 12,
   "metadata": {},
   "outputs": [
    {
     "data": {
      "text/plain": [
       "array([2.65, 3.8 , 3.5 ])"
      ]
     },
     "execution_count": 12,
     "metadata": {},
     "output_type": "execute_result"
    }
   ],
   "source": [
    "np.mean(a,axis=0) #axis=0은 열"
   ]
  },
  {
   "cell_type": "code",
   "execution_count": 9,
   "metadata": {},
   "outputs": [
    {
     "data": {
      "text/plain": [
       "array([3.03333333, 3.6       ])"
      ]
     },
     "execution_count": 9,
     "metadata": {},
     "output_type": "execute_result"
    }
   ],
   "source": [
    "np.mean(a,axis=1) #axis=1은 행"
   ]
  },
  {
   "cell_type": "markdown",
   "metadata": {},
   "source": [
    "tensorflow는 data type에 민감"
   ]
  },
  {
   "cell_type": "code",
   "execution_count": 11,
   "metadata": {},
   "outputs": [
    {
     "data": {
      "text/plain": [
       "array([[5.1, 6.1, 6.9],\n",
       "       [6.2, 7.5, 6.1]])"
      ]
     },
     "execution_count": 11,
     "metadata": {},
     "output_type": "execute_result"
    }
   ],
   "source": [
    "a+3 #파이썬은 가능(tensorflow는 에러)"
   ]
  },
  {
   "cell_type": "markdown",
   "metadata": {},
   "source": [
    "==============================================================================================="
   ]
  },
  {
   "cell_type": "code",
   "execution_count": 15,
   "metadata": {},
   "outputs": [
    {
     "name": "stdout",
     "output_type": "stream",
     "text": [
      "Tensor(\"Const_2:0\", shape=(), dtype=float32)\n"
     ]
    }
   ],
   "source": [
    "a=tf.constant(3,dtype=tf.float32) #상수만 저장하는 텐서, a라는 variable 안에 있음\n",
    "print(a)\n",
    "#이름 const_1"
   ]
  },
  {
   "cell_type": "code",
   "execution_count": 16,
   "metadata": {},
   "outputs": [
    {
     "name": "stdout",
     "output_type": "stream",
     "text": [
      "Tensor(\"const_3:0\", shape=(), dtype=float32)\n"
     ]
    }
   ],
   "source": [
    "a=tf.constant(3,dtype=tf.float32,name='const')\n",
    "print(a)"
   ]
  },
  {
   "cell_type": "code",
   "execution_count": 17,
   "metadata": {},
   "outputs": [
    {
     "name": "stdout",
     "output_type": "stream",
     "text": [
      "Tensor(\"const_4:0\", shape=(), dtype=float32)\n"
     ]
    }
   ],
   "source": [
    "a=tf.constant(3,dtype=tf.float32,name='const')\n",
    "print(a)\n",
    "#같은 이름을 가진 텐서가 있으면 안되기때문에 컴퓨터가 알아서 1씩 올려줌\n",
    "#이름 중요"
   ]
  },
  {
   "cell_type": "code",
   "execution_count": 19,
   "metadata": {},
   "outputs": [
    {
     "name": "stdout",
     "output_type": "stream",
     "text": [
      "Tensor(\"abc_1/const:0\", shape=(), dtype=float32)\n"
     ]
    }
   ],
   "source": [
    "with tf.name_scope('abc'):\n",
    "    a=tf.constant(3,dtype=tf.float32, name='const')\n",
    "print(a)\n",
    "#name_scope안에 텐서 새로 생성"
   ]
  },
  {
   "cell_type": "code",
   "execution_count": 20,
   "metadata": {},
   "outputs": [
    {
     "name": "stdout",
     "output_type": "stream",
     "text": [
      "Tensor(\"abc_2/const:0\", shape=(), dtype=float32)\n"
     ]
    }
   ],
   "source": [
    "with tf.name_scope('abc'):\n",
    "    a=tf.constant(3,dtype=tf.float32, name='const')\n",
    "print(a)"
   ]
  },
  {
   "cell_type": "code",
   "execution_count": null,
   "metadata": {},
   "outputs": [],
   "source": [
    "tf.get_variable('const') #예전에 선언했던 variable 가져옴"
   ]
  },
  {
   "cell_type": "code",
   "execution_count": 21,
   "metadata": {},
   "outputs": [
    {
     "name": "stdout",
     "output_type": "stream",
     "text": [
      "3.0\n"
     ]
    }
   ],
   "source": [
    "with tf.Session() as sess:\n",
    "    print(sess.run(a))\n",
    "#위의 셀에서는 그래프를 그리기만 한 것\n",
    "#이렇게 해야 연산이 된 것임"
   ]
  },
  {
   "cell_type": "code",
   "execution_count": 2,
   "metadata": {},
   "outputs": [
    {
     "name": "stdout",
     "output_type": "stream",
     "text": [
      "Tensor(\"const:0\", shape=(), dtype=float32)\n",
      "<tf.Variable 'Variable:0' shape=() dtype=float64_ref>\n"
     ]
    }
   ],
   "source": [
    "a=tf.constant(3,dtype=tf.float32,name='const')\n",
    "b=tf.Variable(0,dtype=tf.float64)\n",
    "print(a)\n",
    "print(b)\n",
    "#variable(변수) - 값이 바뀔수 있음"
   ]
  },
  {
   "cell_type": "code",
   "execution_count": null,
   "metadata": {},
   "outputs": [],
   "source": [
    "wiht tf.Session() as sess:\n",
    "    print(sess.run(a+b))\n",
    "#이렇게 하면 안됨\n",
    "#a는 constant, b는 variable\n",
    "#constant는 값이 바뀌지 않음\n",
    "#값을 업데이트하고 싶으면 variable을 써야함(나중에 W는 variable로 선언)\n",
    "#variable은 초기화를 해줘야함"
   ]
  },
  {
   "cell_type": "code",
   "execution_count": 13,
   "metadata": {},
   "outputs": [
    {
     "name": "stdout",
     "output_type": "stream",
     "text": [
      "Tensor(\"const_2:0\", shape=(), dtype=float32)\n",
      "<tf.Variable 'Variable_5:0' shape=() dtype=float32_ref>\n"
     ]
    }
   ],
   "source": [
    "a=tf.constant(3,dtype=tf.float32,name='const')\n",
    "b=tf.Variable(0,dtype=tf.float32)\n",
    "c=a+b\n",
    "print(a)\n",
    "print(b)\n",
    "\n",
    "init=tf.global_variables_initializer()"
   ]
  },
  {
   "cell_type": "code",
   "execution_count": 15,
   "metadata": {},
   "outputs": [
    {
     "name": "stdout",
     "output_type": "stream",
     "text": [
      "3.0\n"
     ]
    }
   ],
   "source": [
    "with tf.Session() as sess:\n",
    "    sess.run(init)\n",
    "    print(sess.run(c))"
   ]
  },
  {
   "cell_type": "code",
   "execution_count": 17,
   "metadata": {},
   "outputs": [
    {
     "name": "stdout",
     "output_type": "stream",
     "text": [
      "Tensor(\"const_3:0\", shape=(), dtype=float32)\n",
      "<tf.Variable 'Variable_6:0' shape=() dtype=float32_ref>\n"
     ]
    }
   ],
   "source": [
    "a=tf.constant(3,dtype=tf.float32,name='const')\n",
    "b=tf.Variable(0,dtype=tf.float32)\n",
    "c=a+b\n",
    "print(a)\n",
    "print(b)\n",
    "\n",
    "init=tf.global_variables_initializer()"
   ]
  },
  {
   "cell_type": "code",
   "execution_count": 19,
   "metadata": {},
   "outputs": [
    {
     "name": "stdout",
     "output_type": "stream",
     "text": [
      "0.0\n",
      "0.0\n"
     ]
    }
   ],
   "source": [
    "with tf.Session() as sess:\n",
    "    sess.run(init)\n",
    "    print(sess.run(b))\n",
    "    print(sess.run(b))\n",
    "#이렇게 하면 b에 6이 나올줄 알았는데 안나옴"
   ]
  },
  {
   "cell_type": "code",
   "execution_count": 20,
   "metadata": {},
   "outputs": [
    {
     "name": "stdout",
     "output_type": "stream",
     "text": [
      "Tensor(\"const_4:0\", shape=(), dtype=float32)\n",
      "<tf.Variable 'Variable_7:0' shape=() dtype=float32_ref>\n"
     ]
    }
   ],
   "source": [
    "a=tf.constant(3,dtype=tf.float32,name='const')\n",
    "b=tf.Variable(0,dtype=tf.float32)\n",
    "c=tf.assign(b,a+b)\n",
    "print(a)\n",
    "print(b)\n",
    "\n",
    "init=tf.global_variables_initializer()"
   ]
  },
  {
   "cell_type": "code",
   "execution_count": 16,
   "metadata": {},
   "outputs": [
    {
     "name": "stdout",
     "output_type": "stream",
     "text": [
      "0.0\n",
      "0.0\n"
     ]
    }
   ],
   "source": [
    "with tf.Session() as sess:\n",
    "    sess.run(init)\n",
    "    print(sess.run(b))\n",
    "    print(sess.run(b))"
   ]
  },
  {
   "cell_type": "markdown",
   "metadata": {},
   "source": [
    "## placeholder"
   ]
  },
  {
   "cell_type": "markdown",
   "metadata": {},
   "source": [
    "placeholder: 그래프로 tensor를 입력하는 객체, 초기값을 제공하지 않아도 되므로 런타임에 지정 가능<br>\n",
    "variable: 선언할때 초기값을 제공"
   ]
  },
  {
   "cell_type": "code",
   "execution_count": 7,
   "metadata": {},
   "outputs": [],
   "source": [
    "x=tf.placeholder(tf.float32, shape=(),name='x')\n",
    "y=tf.placeholder(tf.float32, shape=(),name='y')\n",
    "w=tf.Variable(np.random.randn(),dtype=tf.float32)\n",
    "\n",
    "a= tf.assign(w,w+x+y)\n",
    "\n",
    "init=tf.global_variables_initializer()"
   ]
  },
  {
   "cell_type": "code",
   "execution_count": 8,
   "metadata": {},
   "outputs": [
    {
     "name": "stdout",
     "output_type": "stream",
     "text": [
      "-1.5189161\n",
      "1.4810839\n",
      "4.481084\n",
      "7.481084\n",
      "10.481084\n",
      "13.481084\n",
      "16.481083\n",
      "19.481083\n",
      "22.481083\n",
      "25.481083\n",
      "28.481083\n"
     ]
    }
   ],
   "source": [
    "with tf.Session() as sess:\n",
    "    sess.run(init)    \n",
    "    for _ in range(0,10):\n",
    "        print(sess.run(w))\n",
    "        sess.run(a,feed_dict={x:1.0,y:2.0})\n",
    "    print(sess.run(w))"
   ]
  },
  {
   "cell_type": "code",
   "execution_count": 9,
   "metadata": {},
   "outputs": [],
   "source": [
    "np.random.seed(42)\n",
    "x=tf.placeholder(tf.float32, shape=(),name='x')\n",
    "y=tf.placeholder(tf.float32, shape=(),name='y')\n",
    "w=tf.Variable(np.random.randn(),dtype=tf.float32)\n",
    "a= tf.assign(w,w+x+y)\n",
    "init=tf.global_variables_initializer()"
   ]
  },
  {
   "cell_type": "code",
   "execution_count": 10,
   "metadata": {},
   "outputs": [
    {
     "name": "stdout",
     "output_type": "stream",
     "text": [
      "0.49671414\n",
      "3.496714\n",
      "6.496714\n",
      "9.496714\n",
      "12.496714\n",
      "15.496714\n",
      "18.496714\n",
      "21.496714\n",
      "24.496714\n",
      "27.496714\n",
      "30.496714\n"
     ]
    }
   ],
   "source": [
    "with tf.Session() as sess:\n",
    "    sess.run(init)    \n",
    "    for _ in range(0,10):\n",
    "        print(sess.run(w))\n",
    "        sess.run(a,feed_dict={x:1.0,y:2.0})\n",
    "    print(sess.run(w))"
   ]
  }
 ],
 "metadata": {
  "kernelspec": {
   "display_name": "Python 3",
   "language": "python",
   "name": "python3"
  },
  "language_info": {
   "codemirror_mode": {
    "name": "ipython",
    "version": 3
   },
   "file_extension": ".py",
   "mimetype": "text/x-python",
   "name": "python",
   "nbconvert_exporter": "python",
   "pygments_lexer": "ipython3",
   "version": "3.6.8"
  }
 },
 "nbformat": 4,
 "nbformat_minor": 2
}
